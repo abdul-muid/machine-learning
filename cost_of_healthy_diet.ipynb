{
 "cells": [
  {
   "cell_type": "markdown",
   "metadata": {},
   "source": [
    "## **Cost and Affordability of a Healthy Diet (CoAHD)**\n",
    "\n",
    "`Author`: Abdul Muid \\\n",
    "`Github`: [abdul-muid](https://github.com/abdul-muid/)\\\n",
    "`Linkedin`: [abdulmuid](https://www.linkedin.com/in/abdulmuid/)\n",
    "\n",
    "\n",
    "[DATASET](https://www.fao.org/faostat/en/#data/CAHD)\n",
    "\n",
    "[Metadata](https://www.fao.org/faostat/en/#data/CAHD/metadata) \n",
    "\n",
    "`Data`\n",
    "\n",
    "Indicators on the cost and affordability of a healthy diet are estimated in each country and show the population’s physical and economic access to least expensive locally available foods to meet requirements for a healthy diet, as defined in food-based dietary guidelines (FBDGs). The indicators use observed retail food consumer prices and income distributions to provide an operational measure of people’s access to locally available foods in the proportions needed for health. These indicators support efforts within the framework of the Sustainable Development Goals (SDGs) to end hunger, achieve food security and improved nutrition, and promote sustainable agriculture by 2030 (SDG 2). They also support the monitoring of progress towards the objective of transforming agrifood systems by promoting “nutrition-sensitive agriculture”. For definitions of these indicators, see Definitions and standards.\n",
    "\n",
    "`Time coverage`\n",
    "\n",
    "Years 2017-2021.\n",
    "\n",
    "#### Cross-Country Comparison Hypothesis: The cost of a healthy diet per day differs between Pakistan, Bangladesh and India.\n",
    "\n",
    "`Null Hypothesis (H0):` There is no significant difference in the cost of a healthy diet per day between Pakistan, Bangladesh and India.\n",
    "\n",
    "`Alternative Hypothesis (H1):` The cost of a healthy diet per day differs significantly between Pakistan, Bangladesh and India."
   ]
  },
  {
   "cell_type": "code",
   "execution_count": 43,
   "metadata": {},
   "outputs": [],
   "source": [
    "import pandas as pd\n",
    "import seaborn as sns \n",
    "import matplotlib.pyplot as plt "
   ]
  },
  {
   "cell_type": "code",
   "execution_count": 44,
   "metadata": {},
   "outputs": [
    {
     "data": {
      "text/html": [
       "<div>\n",
       "<style scoped>\n",
       "    .dataframe tbody tr th:only-of-type {\n",
       "        vertical-align: middle;\n",
       "    }\n",
       "\n",
       "    .dataframe tbody tr th {\n",
       "        vertical-align: top;\n",
       "    }\n",
       "\n",
       "    .dataframe thead th {\n",
       "        text-align: right;\n",
       "    }\n",
       "</style>\n",
       "<table border=\"1\" class=\"dataframe\">\n",
       "  <thead>\n",
       "    <tr style=\"text-align: right;\">\n",
       "      <th></th>\n",
       "      <th>Domain Code</th>\n",
       "      <th>Domain</th>\n",
       "      <th>Area Code (M49)</th>\n",
       "      <th>Area</th>\n",
       "      <th>Element Code</th>\n",
       "      <th>Element</th>\n",
       "      <th>Item Code</th>\n",
       "      <th>Item</th>\n",
       "      <th>Year Code</th>\n",
       "      <th>Year</th>\n",
       "      <th>Unit</th>\n",
       "      <th>Value</th>\n",
       "      <th>Flag</th>\n",
       "      <th>Flag Description</th>\n",
       "    </tr>\n",
       "  </thead>\n",
       "  <tbody>\n",
       "    <tr>\n",
       "      <th>0</th>\n",
       "      <td>CAHD</td>\n",
       "      <td>Cost and Affordability of a Healthy Diet (CoAHD)</td>\n",
       "      <td>8</td>\n",
       "      <td>Albania</td>\n",
       "      <td>6226</td>\n",
       "      <td>Value</td>\n",
       "      <td>7004</td>\n",
       "      <td>Cost of a healthy diet (PPP dollar per person ...</td>\n",
       "      <td>2017</td>\n",
       "      <td>2017</td>\n",
       "      <td>PPP dollar per person per day</td>\n",
       "      <td>3.952</td>\n",
       "      <td>E</td>\n",
       "      <td>Estimated value</td>\n",
       "    </tr>\n",
       "    <tr>\n",
       "      <th>1</th>\n",
       "      <td>CAHD</td>\n",
       "      <td>Cost and Affordability of a Healthy Diet (CoAHD)</td>\n",
       "      <td>8</td>\n",
       "      <td>Albania</td>\n",
       "      <td>6226</td>\n",
       "      <td>Value</td>\n",
       "      <td>7004</td>\n",
       "      <td>Cost of a healthy diet (PPP dollar per person ...</td>\n",
       "      <td>2018</td>\n",
       "      <td>2018</td>\n",
       "      <td>PPP dollar per person per day</td>\n",
       "      <td>4.069</td>\n",
       "      <td>E</td>\n",
       "      <td>Estimated value</td>\n",
       "    </tr>\n",
       "    <tr>\n",
       "      <th>2</th>\n",
       "      <td>CAHD</td>\n",
       "      <td>Cost and Affordability of a Healthy Diet (CoAHD)</td>\n",
       "      <td>8</td>\n",
       "      <td>Albania</td>\n",
       "      <td>6226</td>\n",
       "      <td>Value</td>\n",
       "      <td>7004</td>\n",
       "      <td>Cost of a healthy diet (PPP dollar per person ...</td>\n",
       "      <td>2019</td>\n",
       "      <td>2019</td>\n",
       "      <td>PPP dollar per person per day</td>\n",
       "      <td>4.262</td>\n",
       "      <td>E</td>\n",
       "      <td>Estimated value</td>\n",
       "    </tr>\n",
       "    <tr>\n",
       "      <th>3</th>\n",
       "      <td>CAHD</td>\n",
       "      <td>Cost and Affordability of a Healthy Diet (CoAHD)</td>\n",
       "      <td>8</td>\n",
       "      <td>Albania</td>\n",
       "      <td>6226</td>\n",
       "      <td>Value</td>\n",
       "      <td>7004</td>\n",
       "      <td>Cost of a healthy diet (PPP dollar per person ...</td>\n",
       "      <td>2020</td>\n",
       "      <td>2020</td>\n",
       "      <td>PPP dollar per person per day</td>\n",
       "      <td>4.280</td>\n",
       "      <td>E</td>\n",
       "      <td>Estimated value</td>\n",
       "    </tr>\n",
       "    <tr>\n",
       "      <th>4</th>\n",
       "      <td>CAHD</td>\n",
       "      <td>Cost and Affordability of a Healthy Diet (CoAHD)</td>\n",
       "      <td>8</td>\n",
       "      <td>Albania</td>\n",
       "      <td>6226</td>\n",
       "      <td>Value</td>\n",
       "      <td>7004</td>\n",
       "      <td>Cost of a healthy diet (PPP dollar per person ...</td>\n",
       "      <td>2021</td>\n",
       "      <td>2021</td>\n",
       "      <td>PPP dollar per person per day</td>\n",
       "      <td>4.388</td>\n",
       "      <td>E</td>\n",
       "      <td>Estimated value</td>\n",
       "    </tr>\n",
       "  </tbody>\n",
       "</table>\n",
       "</div>"
      ],
      "text/plain": [
       "  Domain Code                                            Domain  \\\n",
       "0        CAHD  Cost and Affordability of a Healthy Diet (CoAHD)   \n",
       "1        CAHD  Cost and Affordability of a Healthy Diet (CoAHD)   \n",
       "2        CAHD  Cost and Affordability of a Healthy Diet (CoAHD)   \n",
       "3        CAHD  Cost and Affordability of a Healthy Diet (CoAHD)   \n",
       "4        CAHD  Cost and Affordability of a Healthy Diet (CoAHD)   \n",
       "\n",
       "   Area Code (M49)     Area  Element Code Element  Item Code  \\\n",
       "0                8  Albania          6226   Value       7004   \n",
       "1                8  Albania          6226   Value       7004   \n",
       "2                8  Albania          6226   Value       7004   \n",
       "3                8  Albania          6226   Value       7004   \n",
       "4                8  Albania          6226   Value       7004   \n",
       "\n",
       "                                                Item  Year Code  Year  \\\n",
       "0  Cost of a healthy diet (PPP dollar per person ...       2017  2017   \n",
       "1  Cost of a healthy diet (PPP dollar per person ...       2018  2018   \n",
       "2  Cost of a healthy diet (PPP dollar per person ...       2019  2019   \n",
       "3  Cost of a healthy diet (PPP dollar per person ...       2020  2020   \n",
       "4  Cost of a healthy diet (PPP dollar per person ...       2021  2021   \n",
       "\n",
       "                            Unit  Value Flag Flag Description  \n",
       "0  PPP dollar per person per day  3.952    E  Estimated value  \n",
       "1  PPP dollar per person per day  4.069    E  Estimated value  \n",
       "2  PPP dollar per person per day  4.262    E  Estimated value  \n",
       "3  PPP dollar per person per day  4.280    E  Estimated value  \n",
       "4  PPP dollar per person per day  4.388    E  Estimated value  "
      ]
     },
     "execution_count": 44,
     "metadata": {},
     "output_type": "execute_result"
    }
   ],
   "source": [
    "df = pd.read_csv('FAOSTAT_data_en_2-11-2024.csv')\n",
    "df.head()"
   ]
  },
  {
   "cell_type": "code",
   "execution_count": 45,
   "metadata": {},
   "outputs": [
    {
     "data": {
      "text/plain": [
       "Domain Code           0\n",
       "Domain                0\n",
       "Area Code (M49)       0\n",
       "Area                  0\n",
       "Element Code          0\n",
       "Element               0\n",
       "Item Code             0\n",
       "Item                  0\n",
       "Year Code             0\n",
       "Year                  0\n",
       "Unit                  0\n",
       "Value               276\n",
       "Flag                  0\n",
       "Flag Description      0\n",
       "dtype: int64"
      ]
     },
     "execution_count": 45,
     "metadata": {},
     "output_type": "execute_result"
    }
   ],
   "source": [
    "df.isnull().sum()"
   ]
  },
  {
   "cell_type": "code",
   "execution_count": 46,
   "metadata": {},
   "outputs": [
    {
     "data": {
      "text/plain": [
       "Index(['Domain Code', 'Domain', 'Area Code (M49)', 'Area', 'Element Code',\n",
       "       'Element', 'Item Code', 'Item', 'Year Code', 'Year', 'Unit', 'Value',\n",
       "       'Flag', 'Flag Description'],\n",
       "      dtype='object')"
      ]
     },
     "execution_count": 46,
     "metadata": {},
     "output_type": "execute_result"
    }
   ],
   "source": [
    "df.columns"
   ]
  },
  {
   "cell_type": "code",
   "execution_count": 47,
   "metadata": {},
   "outputs": [
    {
     "data": {
      "text/plain": [
       "Item\n",
       "Cost of a healthy diet (PPP dollar per person per day)                    835\n",
       "Percentage of the population unable to afford a healthy diet (percent)    835\n",
       "Number of people unable to afford a healthy diet (million)                835\n",
       "Cost of starchy staples                                                   169\n",
       "Cost of animal source foods                                               169\n",
       "Cost of legumes, nuts and seeds                                           169\n",
       "Cost of vegetables                                                        169\n",
       "Cost of fruits                                                            169\n",
       "Cost of oils and fats                                                     169\n",
       "Name: count, dtype: int64"
      ]
     },
     "execution_count": 47,
     "metadata": {},
     "output_type": "execute_result"
    }
   ],
   "source": [
    "df['Item'].value_counts()"
   ]
  },
  {
   "cell_type": "code",
   "execution_count": 48,
   "metadata": {},
   "outputs": [
    {
     "name": "stdout",
     "output_type": "stream",
     "text": [
      "<class 'pandas.core.frame.DataFrame'>\n",
      "RangeIndex: 3519 entries, 0 to 3518\n",
      "Data columns (total 14 columns):\n",
      " #   Column            Non-Null Count  Dtype  \n",
      "---  ------            --------------  -----  \n",
      " 0   Domain Code       3519 non-null   object \n",
      " 1   Domain            3519 non-null   object \n",
      " 2   Area Code (M49)   3519 non-null   int64  \n",
      " 3   Area              3519 non-null   object \n",
      " 4   Element Code      3519 non-null   int64  \n",
      " 5   Element           3519 non-null   object \n",
      " 6   Item Code         3519 non-null   int64  \n",
      " 7   Item              3519 non-null   object \n",
      " 8   Year Code         3519 non-null   int64  \n",
      " 9   Year              3519 non-null   int64  \n",
      " 10  Unit              3519 non-null   object \n",
      " 11  Value             3243 non-null   float64\n",
      " 12  Flag              3519 non-null   object \n",
      " 13  Flag Description  3519 non-null   object \n",
      "dtypes: float64(1), int64(5), object(8)\n",
      "memory usage: 385.0+ KB\n"
     ]
    }
   ],
   "source": [
    "df.info()"
   ]
  },
  {
   "cell_type": "markdown",
   "metadata": {},
   "source": [
    "# Exploratory Data Analysis"
   ]
  },
  {
   "cell_type": "markdown",
   "metadata": {},
   "source": [
    "## Pakistan"
   ]
  },
  {
   "cell_type": "code",
   "execution_count": 49,
   "metadata": {},
   "outputs": [],
   "source": [
    "pakistan = (df[df['Area'] == 'Pakistan'])"
   ]
  },
  {
   "cell_type": "code",
   "execution_count": 50,
   "metadata": {},
   "outputs": [
    {
     "data": {
      "text/plain": [
       "Text(0.5, 1.0, 'Cost of Locally Available Foods in Pakistan - 2017')"
      ]
     },
     "execution_count": 50,
     "metadata": {},
     "output_type": "execute_result"
    },
    {
     "data": {
      "image/png": "[encoded data removed]",
      "text/plain": [
       "<Figure size 1000x500 with 1 Axes>"
      ]
     },
     "metadata": {},
     "output_type": "display_data"
    }
   ],
   "source": [
    "diet = pakistan[~((pakistan['Item'] == 'Percentage of the population unable to afford a healthy diet (percent)') | \n",
    "                 (pakistan['Item'] == \"Number of people unable to afford a healthy diet (million)\") | \n",
    "                 (pakistan['Item'] == 'Cost of a healthy diet (PPP dollar per person per day)'))]\n",
    "\n",
    "plt.figure(figsize=(10, 5))\n",
    "sns.barplot(diet, x = 'Value', y = 'Item')\n",
    "plt.title(\"Cost of Locally Available Foods in Pakistan - 2017\")"
   ]
  },
  {
   "cell_type": "code",
   "execution_count": 51,
   "metadata": {},
   "outputs": [
    {
     "data": {
      "image/png": "[encoded data removed]",
      "text/plain": [
       "<Figure size 1000x800 with 1 Axes>"
      ]
     },
     "metadata": {},
     "output_type": "display_data"
    }
   ],
   "source": [
    "cost = pakistan[pakistan['Item'] == 'Cost of a healthy diet (PPP dollar per person per day)']\n",
    "plt.figure(figsize=(10, 8))\n",
    "sns.set_style(\"whitegrid\")\n",
    "sns.set_palette(\"dark\")\n",
    "sns.barplot(cost, x='Year', y = 'Value')\n",
    "plt.title(\"Fluctuations in the Cost of Maintaining a Healthy Lifestyle in Pakistan\")\n",
    "plt.ylabel(\"US dollars\")\n",
    "plt.show()"
   ]
  },
  {
   "cell_type": "code",
   "execution_count": 52,
   "metadata": {},
   "outputs": [
    {
     "data": {
      "text/plain": [
       "Text(0, 0.5, 'Dollars')"
      ]
     },
     "execution_count": 52,
     "metadata": {},
     "output_type": "execute_result"
    },
    {
     "data": {
      "image/png": "[encoded data removed]",
      "text/plain": [
       "<Figure size 1000x500 with 1 Axes>"
      ]
     },
     "metadata": {},
     "output_type": "display_data"
    }
   ],
   "source": [
    "plt.figure(figsize=(10, 5))\n",
    "sns.lineplot(cost, x = 'Year', y = 'Value')\n",
    "plt.title(\"Trend of Rising Costs for a Healthy Daily Diet in Pakistan Over the Years\")\n",
    "plt.ylabel('Dollars')"
   ]
  },
  {
   "cell_type": "markdown",
   "metadata": {},
   "source": [
    "### Observations \n",
    "\n",
    "- The cost of a healthy diet per day in Pakistan experienced a slight decrease of 0.38% from 2017 to 2018, indicating relative stability in the cost during this period.\n",
    "- Subsequently, there was a notable increase of 1.91% from 2018 to 2019, suggesting a moderate rise in the cost of maintaining a healthy diet.\n",
    "- The most significant increase occurred from 2019 to 2020, with a substantial 6.52% rise in the cost, indicating a considerable impact on affordability and access to nutritious food.\n",
    "- Despite the sharp increase in the previous year, the cost continued to climb, albeit at a slower pace, with a 4.17% rise from 2020 to 2021, indicating sustained inflationary pressures on food prices."
   ]
  },
  {
   "cell_type": "code",
   "execution_count": 53,
   "metadata": {},
   "outputs": [
    {
     "data": {
      "image/png": "[encoded data removed]",
      "text/plain": [
       "<Figure size 700x500 with 1 Axes>"
      ]
     },
     "metadata": {},
     "output_type": "display_data"
    }
   ],
   "source": [
    "people = pakistan[pakistan['Item'] == 'Number of people unable to afford a healthy diet (million)']\n",
    "plt.figure(figsize=(7, 5))\n",
    "sns.set_palette(\"dark\")\n",
    "sns.barplot(people, x='Year', y = 'Value')\n",
    "plt.title(\"Number of people not able to afford Healthy Diet in Pakistan\")\n",
    "plt.ylabel(\"Million\")\n",
    "plt.show()"
   ]
  },
  {
   "cell_type": "code",
   "execution_count": 54,
   "metadata": {},
   "outputs": [
    {
     "data": {
      "text/plain": [
       "Text(0, 0.5, 'Million')"
      ]
     },
     "execution_count": 54,
     "metadata": {},
     "output_type": "execute_result"
    },
    {
     "data": {
      "image/png": "[encoded data removed]",
      "text/plain": [
       "<Figure size 1000x500 with 1 Axes>"
      ]
     },
     "metadata": {},
     "output_type": "display_data"
    }
   ],
   "source": [
    "plt.figure(figsize=(10, 5))\n",
    "sns.lineplot(people, x = 'Year', y = 'Value')\n",
    "plt.title(\"Number of people not able to afford Healthy Diet in Pakistan (Million)\")\n",
    "plt.ylabel('Million')"
   ]
  },
  {
   "cell_type": "markdown",
   "metadata": {},
   "source": [
    "### Observations\n",
    "\n",
    "- There was a minimal increase of 0.06% in the number of people unable to afford a healthy diet from 2017 to 2018, indicating relative stability in this aspect during this period.\n",
    "- Subsequently, there was a more noticeable increase of 3.68% from 2018 to 2019, suggesting a significant rise in the population unable to access nutritious food.\n",
    "- The trend continued with a further increase of 4.37% from 2019 to 2020, indicating a worsening situation in terms of food affordability and accessibility.\n",
    "- Although the rate of increase slowed down, there was still a 1.00% rise from 2020 to 2021, underscoring the persistent challenges in ensuring food security for the population."
   ]
  },
  {
   "cell_type": "markdown",
   "metadata": {},
   "source": [
    "## India"
   ]
  },
  {
   "cell_type": "code",
   "execution_count": 55,
   "metadata": {},
   "outputs": [],
   "source": [
    "india = (df[df['Area'] == 'India'])"
   ]
  },
  {
   "cell_type": "code",
   "execution_count": 56,
   "metadata": {},
   "outputs": [
    {
     "data": {
      "text/plain": [
       "Text(0.5, 1.0, 'Cost of Locally Available Foods in India - 2017')"
      ]
     },
     "execution_count": 56,
     "metadata": {},
     "output_type": "execute_result"
    },
    {
     "data": {
      "image/png": "[encoded data removed]",
      "text/plain": [
       "<Figure size 1000x500 with 1 Axes>"
      ]
     },
     "metadata": {},
     "output_type": "display_data"
    }
   ],
   "source": [
    "india_diet = india[~((india['Item'] == 'Percentage of the population unable to afford a healthy diet (percent)') | \n",
    "                 (india['Item'] == \"Number of people unable to afford a healthy diet (million)\") | \n",
    "                 (india['Item'] == 'Cost of a healthy diet (PPP dollar per person per day)'))]\n",
    "\n",
    "plt.figure(figsize=(10, 5))\n",
    "sns.barplot(india_diet, x = 'Value', y = 'Item')\n",
    "plt.title(\"Cost of Locally Available Foods in India - 2017\")"
   ]
  },
  {
   "cell_type": "code",
   "execution_count": 57,
   "metadata": {},
   "outputs": [
    {
     "data": {
      "image/png": "[encoded data removed]",
      "text/plain": [
       "<Figure size 1000x800 with 1 Axes>"
      ]
     },
     "metadata": {},
     "output_type": "display_data"
    }
   ],
   "source": [
    "india_cost = india[india['Item'] == 'Cost of a healthy diet (PPP dollar per person per day)']\n",
    "plt.figure(figsize=(10, 8))\n",
    "sns.set_style(\"whitegrid\")\n",
    "sns.set_palette(\"dark\")\n",
    "sns.barplot(india_cost, x='Year', y = 'Value')\n",
    "plt.title(\"Fluctuations in the Cost of Maintaining a Healthy Lifestyle in India\")\n",
    "plt.ylabel(\"US dollars\")\n",
    "plt.show()"
   ]
  },
  {
   "cell_type": "code",
   "execution_count": 58,
   "metadata": {},
   "outputs": [
    {
     "data": {
      "text/plain": [
       "Text(0, 0.5, 'Dollars')"
      ]
     },
     "execution_count": 58,
     "metadata": {},
     "output_type": "execute_result"
    },
    {
     "data": {
      "image/png": "[encoded data removed]",
      "text/plain": [
       "<Figure size 1000x500 with 1 Axes>"
      ]
     },
     "metadata": {},
     "output_type": "display_data"
    }
   ],
   "source": [
    "plt.figure(figsize=(10, 5))\n",
    "sns.lineplot(india_cost, x = 'Year', y = 'Value')\n",
    "plt.title(\"Trend of Rising Costs for a Healthy Daily Diet in India Over the Years\")\n",
    "plt.ylabel('Dollars')"
   ]
  },
  {
   "cell_type": "markdown",
   "metadata": {},
   "source": [
    "### Observations\n",
    "\n",
    "- The cost of a healthy diet in India has been gradually increasing over the years, with a consistent upward trend.\n",
    "- From 2017 to 2018, there was a marginal increase of 0.21%, suggesting relative stability in the cost during this period.\n",
    "- Subsequently, there was a moderate rise of 1.88% from 2018 to 2019, indicating a slight acceleration in the increase of the cost.\n",
    "- The most significant increase occurred from 2019 to 2020, with a substantial rise of 3.35%, indicating a notable impact on affordability and access to nutritious food.\n",
    "- Despite the sharp increase in the previous year, the cost continued to climb, albeit at a slower pace, with a 3.51% rise from 2020 to 2021, indicating sustained inflationary pressures on food prices."
   ]
  },
  {
   "cell_type": "code",
   "execution_count": 59,
   "metadata": {},
   "outputs": [
    {
     "data": {
      "image/png": "[encoded data removed]",
      "text/plain": [
       "<Figure size 700x500 with 1 Axes>"
      ]
     },
     "metadata": {},
     "output_type": "display_data"
    }
   ],
   "source": [
    "india_people = india[india['Item'] == 'Number of people unable to afford a healthy diet (million)']\n",
    "plt.figure(figsize=(7, 5))\n",
    "sns.set_palette(\"dark\")\n",
    "sns.barplot(india_people, x='Year', y = 'Value')\n",
    "plt.title(\"Number of people not able to afford Healthy Diet in India\")\n",
    "plt.ylabel(\"Million\")\n",
    "plt.show()"
   ]
  },
  {
   "cell_type": "code",
   "execution_count": 60,
   "metadata": {},
   "outputs": [
    {
     "data": {
      "text/plain": [
       "Text(0, 0.5, 'Million')"
      ]
     },
     "execution_count": 60,
     "metadata": {},
     "output_type": "execute_result"
    },
    {
     "data": {
      "image/png": "[encoded data removed]",
      "text/plain": [
       "<Figure size 1000x500 with 1 Axes>"
      ]
     },
     "metadata": {},
     "output_type": "display_data"
    }
   ],
   "source": [
    "plt.figure(figsize=(10, 5))\n",
    "sns.lineplot(india_people, x = 'Year', y = 'Value')\n",
    "plt.title(\"Number of people not able to afford Healthy Diet in India (Million)\")\n",
    "plt.ylabel('Million')"
   ]
  },
  {
   "cell_type": "markdown",
   "metadata": {},
   "source": [
    "### Observations\n",
    "\n",
    "- The number of people unable to afford a healthy diet in India exhibited fluctuations over the years, showing a mix of decreases and increases.\n",
    "- From 2017 to 2018, there was a notable decrease of 64.9 million people unable to afford a healthy diet, indicating an improvement in affordability during this period.\n",
    "- However, from 2018 to 2019, there was a slight increase of 15 million people unable to afford a healthy diet, suggesting a reversal of the previous year's trend.\n",
    "- The number of people unable to afford a healthy diet further increased from 2019 to 2020, with a rise of 77.1 million, indicating challenges in maintaining affordability and access to nutritious food.\n",
    "- Despite the increase in the previous year, there was a slight decrease of 21 million people unable to afford a healthy diet from 2020 to 2021, indicating a partial reversal of the upward trend, although the overall number remains high."
   ]
  },
  {
   "cell_type": "markdown",
   "metadata": {},
   "source": [
    "## Bangladesh"
   ]
  },
  {
   "cell_type": "code",
   "execution_count": 61,
   "metadata": {},
   "outputs": [],
   "source": [
    "bangladesh = df[df['Area'] == 'Bangladesh']"
   ]
  },
  {
   "cell_type": "code",
   "execution_count": 62,
   "metadata": {},
   "outputs": [
    {
     "data": {
      "text/plain": [
       "Text(0.5, 1.0, 'Cost of Locally Available Foods in Bangladesh - 2017')"
      ]
     },
     "execution_count": 62,
     "metadata": {},
     "output_type": "execute_result"
    },
    {
     "data": {
      "image/png": "[encoded data removed]",
      "text/plain": [
       "<Figure size 1000x500 with 1 Axes>"
      ]
     },
     "metadata": {},
     "output_type": "display_data"
    }
   ],
   "source": [
    "ban_diet = bangladesh[~((bangladesh['Item'] == 'Percentage of the population unable to afford a healthy diet (percent)') | \n",
    "                 (bangladesh['Item'] == \"Number of people unable to afford a healthy diet (million)\") | \n",
    "                 (bangladesh['Item'] == 'Cost of a healthy diet (PPP dollar per person per day)'))]\n",
    "\n",
    "plt.figure(figsize=(10, 5))\n",
    "sns.barplot(ban_diet, x = 'Value', y = 'Item')\n",
    "plt.title(\"Cost of Locally Available Foods in Bangladesh - 2017\")"
   ]
  },
  {
   "cell_type": "code",
   "execution_count": 63,
   "metadata": {},
   "outputs": [
    {
     "data": {
      "image/png": "[encoded data removed]",
      "text/plain": [
       "<Figure size 1000x800 with 1 Axes>"
      ]
     },
     "metadata": {},
     "output_type": "display_data"
    }
   ],
   "source": [
    "ban_cost = bangladesh[bangladesh['Item'] == 'Cost of a healthy diet (PPP dollar per person per day)']\n",
    "plt.figure(figsize=(10, 8))\n",
    "sns.set_style(\"whitegrid\")\n",
    "sns.set_palette(\"dark\")\n",
    "sns.barplot(ban_cost, x='Year', y = 'Value')\n",
    "plt.title(\"Fluctuations in the Cost of Maintaining a Healthy Lifestyle in Bangladesh\")\n",
    "plt.ylabel(\"US dollars\")\n",
    "plt.show()"
   ]
  },
  {
   "cell_type": "code",
   "execution_count": 64,
   "metadata": {},
   "outputs": [
    {
     "data": {
      "text/plain": [
       "Text(0, 0.5, 'Dollars')"
      ]
     },
     "execution_count": 64,
     "metadata": {},
     "output_type": "execute_result"
    },
    {
     "data": {
      "image/png": "[encoded data removed]",
      "text/plain": [
       "<Figure size 1000x500 with 1 Axes>"
      ]
     },
     "metadata": {},
     "output_type": "display_data"
    }
   ],
   "source": [
    "plt.figure(figsize=(10, 5))\n",
    "sns.lineplot(ban_cost, x = 'Year', y = 'Value')\n",
    "plt.title(\"Trend of Rising Costs for a Healthy Daily Diet in Bangladesh Over the Years\")\n",
    "plt.ylabel('Dollars')"
   ]
  },
  {
   "cell_type": "markdown",
   "metadata": {},
   "source": [
    "### Observations\n",
    "\n",
    "- The cost of a healthy diet in Bangladesh, expressed in dollars, has shown a consistent upward trend over the years, indicating a general increase in the cost of maintaining a nutritious diet.\n",
    "- From 2017 to 2018, there was a moderate increase of 3.09%, suggesting a steady rise in the cost during this period.\n",
    "- Subsequently, there was a slight increase of 1.79% from 2018 to 2019, indicating a continued but slightly slower pace of increase.\n",
    "- The rate of increase accelerated from 2019 to 2020, with a rise of 1.32%, suggesting growing inflationary pressures on food prices.\n",
    "- The trend continued in 2021, with a further increase of 4.49%, indicating sustained inflationary pressures and potentially impacting the affordability and access to nutritious food for the population."
   ]
  },
  {
   "cell_type": "code",
   "execution_count": 65,
   "metadata": {},
   "outputs": [
    {
     "data": {
      "image/png": "[encoded data removed]",
      "text/plain": [
       "<Figure size 700x500 with 1 Axes>"
      ]
     },
     "metadata": {},
     "output_type": "display_data"
    }
   ],
   "source": [
    "ban_people = bangladesh[bangladesh['Item'] == 'Number of people unable to afford a healthy diet (million)']\n",
    "plt.figure(figsize=(7, 5))\n",
    "sns.set_palette(\"dark\")\n",
    "sns.barplot(ban_people, x='Year', y = 'Value')\n",
    "plt.title(\"Number of people not able to afford Healthy Diet in Bangladesh\")\n",
    "plt.ylabel(\"Million\")\n",
    "plt.show()"
   ]
  },
  {
   "cell_type": "code",
   "execution_count": 66,
   "metadata": {},
   "outputs": [
    {
     "data": {
      "text/plain": [
       "Text(0, 0.5, 'Million')"
      ]
     },
     "execution_count": 66,
     "metadata": {},
     "output_type": "execute_result"
    },
    {
     "data": {
      "image/png": "[encoded data removed]",
      "text/plain": [
       "<Figure size 1000x500 with 1 Axes>"
      ]
     },
     "metadata": {},
     "output_type": "display_data"
    }
   ],
   "source": [
    "plt.figure(figsize=(10, 5))\n",
    "sns.lineplot(ban_people, x = 'Year', y = 'Value')\n",
    "plt.title(\"Number of people not able to afford Healthy Diet in Bangladesh (Million)\")\n",
    "plt.ylabel('Million')"
   ]
  },
  {
   "cell_type": "markdown",
   "metadata": {},
   "source": [
    "### Observations\n",
    "\n",
    "- The number of people unable to afford a healthy diet in Bangladesh, when measured in dollars, has generally shown a decreasing trend over the years, indicating an improvement in affordability for some segments of the population.\n",
    "- From 2017 to 2018, there was a slight decrease of 3.1 million people unable to afford a healthy diet, suggesting an initial improvement in affordability during this period.\n",
    "- This decreasing trend continued from 2018 to 2019, with a further decline of 1.6 million people unable to afford a healthy diet, indicating sustained progress in improving access to nutritious food.\n",
    "- The trend of improvement persisted from 2019 to 2020, with a decrease of 2.1 million people unable to afford a healthy diet, suggesting ongoing efforts to enhance affordability and access.\n",
    "- The number of people unable to afford a healthy diet continued to decrease in 2021, with a further decline of 3.1 million, indicating sustained progress in improving food affordability for the population."
   ]
  },
  {
   "cell_type": "markdown",
   "metadata": {},
   "source": [
    "## Global"
   ]
  },
  {
   "cell_type": "code",
   "execution_count": 83,
   "metadata": {},
   "outputs": [
    {
     "data": {
      "application/vnd.plotly.v1+json": {
       "config": {
        "plotlyServerURL": "https://plot.ly"
       },
       "data": [
        {
         "coloraxis": "coloraxis",
         "customdata": [
          [
           4.388,
           "Albania",
           "PPP dollar per person per day"
          ],
          [
           4.043,
           "Algeria",
           "PPP dollar per person per day"
          ],
          [
           5.031,
           "Angola",
           "PPP dollar per person per day"
          ],
          [
           4.684,
           "Antigua and Barbuda",
           "PPP dollar per person per day"
          ],
          [
           null,
           "Argentina",
           "PPP dollar per person per day"
          ],
          [
           3.527,
           "Armenia",
           "PPP dollar per person per day"
          ],
          [
           4.116,
           "Aruba",
           "PPP dollar per person per day"
          ],
          [
           2.437,
           "Australia",
           "PPP dollar per person per day"
          ],
          [
           3.027,
           "Austria",
           "PPP dollar per person per day"
          ],
          [
           2.69,
           "Azerbaijan",
           "PPP dollar per person per day"
          ],
          [
           4.661,
           "Bahamas",
           "PPP dollar per person per day"
          ],
          [
           4.036,
           "Bahrain",
           "PPP dollar per person per day"
          ],
          [
           3.201,
           "Bangladesh",
           "PPP dollar per person per day"
          ],
          [
           3.471,
           "Belarus",
           "PPP dollar per person per day"
          ],
          [
           3.125,
           "Belgium",
           "PPP dollar per person per day"
          ],
          [
           2.797,
           "Belize",
           "PPP dollar per person per day"
          ],
          [
           4.041,
           "Benin",
           "PPP dollar per person per day"
          ],
          [
           3.395,
           "Bermuda",
           "PPP dollar per person per day"
          ],
          [
           5.339,
           "Bhutan",
           "PPP dollar per person per day"
          ],
          [
           3.927,
           "Bolivia (Plurinational State of)",
           "PPP dollar per person per day"
          ],
          [
           4.105,
           "Bosnia and Herzegovina",
           "PPP dollar per person per day"
          ],
          [
           3.829,
           "Botswana",
           "PPP dollar per person per day"
          ],
          [
           3.35,
           "Brazil",
           "PPP dollar per person per day"
          ],
          [
           3.425,
           "British Virgin Islands",
           "PPP dollar per person per day"
          ],
          [
           4.641,
           "Brunei Darussalam",
           "PPP dollar per person per day"
          ],
          [
           4.151,
           "Bulgaria",
           "PPP dollar per person per day"
          ],
          [
           3.611,
           "Burkina Faso",
           "PPP dollar per person per day"
          ],
          [
           3.138,
           "Burundi",
           "PPP dollar per person per day"
          ],
          [
           3.683,
           "Cabo Verde",
           "PPP dollar per person per day"
          ],
          [
           4.064,
           "Cambodia",
           "PPP dollar per person per day"
          ],
          [
           2.997,
           "Cameroon",
           "PPP dollar per person per day"
          ],
          [
           3.065,
           "Canada",
           "PPP dollar per person per day"
          ],
          [
           3.05,
           "Cayman Islands",
           "PPP dollar per person per day"
          ],
          [
           3.784,
           "Central African Republic",
           "PPP dollar per person per day"
          ],
          [
           2.941,
           "Chad",
           "PPP dollar per person per day"
          ],
          [
           3.387,
           "Chile",
           "PPP dollar per person per day"
          ],
          [
           4.718,
           "China, Hong Kong SAR",
           "PPP dollar per person per day"
          ],
          [
           2.96,
           "China, mainland",
           "PPP dollar per person per day"
          ],
          [
           null,
           "China, Taiwan Province of",
           "PPP dollar per person per day"
          ],
          [
           3.301,
           "Colombia",
           "PPP dollar per person per day"
          ],
          [
           3.626,
           "Congo",
           "PPP dollar per person per day"
          ],
          [
           3.925,
           "Costa Rica",
           "PPP dollar per person per day"
          ],
          [
           3.909,
           "Côte d'Ivoire",
           "PPP dollar per person per day"
          ],
          [
           4.29,
           "Croatia",
           "PPP dollar per person per day"
          ],
          [
           3.495,
           "Curaçao",
           "PPP dollar per person per day"
          ],
          [
           2.955,
           "Cyprus",
           "PPP dollar per person per day"
          ],
          [
           2.985,
           "Czechia",
           "PPP dollar per person per day"
          ],
          [
           2.253,
           "Democratic Republic of the Congo",
           "PPP dollar per person per day"
          ],
          [
           2.5,
           "Denmark",
           "PPP dollar per person per day"
          ],
          [
           3.25,
           "Djibouti",
           "PPP dollar per person per day"
          ],
          [
           4.561,
           "Dominica",
           "PPP dollar per person per day"
          ],
          [
           4.128,
           "Dominican Republic",
           "PPP dollar per person per day"
          ],
          [
           3.035,
           "Ecuador",
           "PPP dollar per person per day"
          ],
          [
           3.506,
           "Egypt",
           "PPP dollar per person per day"
          ],
          [
           3.751,
           "Equatorial Guinea",
           "PPP dollar per person per day"
          ],
          [
           3.29,
           "Estonia",
           "PPP dollar per person per day"
          ],
          [
           3.537,
           "Eswatini",
           "PPP dollar per person per day"
          ],
          [
           3.706,
           "Ethiopia",
           "PPP dollar per person per day"
          ],
          [
           4.358,
           "Fiji",
           "PPP dollar per person per day"
          ],
          [
           2.716,
           "Finland",
           "PPP dollar per person per day"
          ],
          [
           3.254,
           "France",
           "PPP dollar per person per day"
          ],
          [
           3.704,
           "Gabon",
           "PPP dollar per person per day"
          ],
          [
           3.324,
           "Gambia",
           "PPP dollar per person per day"
          ],
          [
           3.082,
           "Germany",
           "PPP dollar per person per day"
          ],
          [
           4.237,
           "Ghana",
           "PPP dollar per person per day"
          ],
          [
           3.174,
           "Greece",
           "PPP dollar per person per day"
          ],
          [
           6.097,
           "Grenada",
           "PPP dollar per person per day"
          ],
          [
           4.443,
           "Guinea",
           "PPP dollar per person per day"
          ],
          [
           3.694,
           "Guinea-Bissau",
           "PPP dollar per person per day"
          ],
          [
           5.117,
           "Guyana",
           "PPP dollar per person per day"
          ],
          [
           4.814,
           "Haiti",
           "PPP dollar per person per day"
          ],
          [
           3.595,
           "Honduras",
           "PPP dollar per person per day"
          ],
          [
           3.418,
           "Hungary",
           "PPP dollar per person per day"
          ],
          [
           2.416,
           "Iceland",
           "PPP dollar per person per day"
          ],
          [
           3.066,
           "India",
           "PPP dollar per person per day"
          ],
          [
           4.729,
           "Indonesia",
           "PPP dollar per person per day"
          ],
          [
           4.167,
           "Iran (Islamic Republic of)",
           "PPP dollar per person per day"
          ],
          [
           3.665,
           "Iraq",
           "PPP dollar per person per day"
          ],
          [
           2.15,
           "Ireland",
           "PPP dollar per person per day"
          ],
          [
           2.524,
           "Israel",
           "PPP dollar per person per day"
          ],
          [
           3.168,
           "Italy",
           "PPP dollar per person per day"
          ],
          [
           7.033,
           "Jamaica",
           "PPP dollar per person per day"
          ],
          [
           5.638,
           "Japan",
           "PPP dollar per person per day"
          ],
          [
           3.737,
           "Jordan",
           "PPP dollar per person per day"
          ],
          [
           2.852,
           "Kazakhstan",
           "PPP dollar per person per day"
          ],
          [
           3.189,
           "Kenya",
           "PPP dollar per person per day"
          ],
          [
           3.997,
           "Kuwait",
           "PPP dollar per person per day"
          ],
          [
           3.51,
           "Kyrgyzstan",
           "PPP dollar per person per day"
          ],
          [
           4.305,
           "Lao People's Democratic Republic",
           "PPP dollar per person per day"
          ],
          [
           3.254,
           "Latvia",
           "PPP dollar per person per day"
          ],
          [
           4.618,
           "Lesotho",
           "PPP dollar per person per day"
          ],
          [
           4.447,
           "Liberia",
           "PPP dollar per person per day"
          ],
          [
           3.108,
           "Lithuania",
           "PPP dollar per person per day"
          ],
          [
           2.59,
           "Luxembourg",
           "PPP dollar per person per day"
          ],
          [
           3.382,
           "Madagascar",
           "PPP dollar per person per day"
          ],
          [
           3.365,
           "Malawi",
           "PPP dollar per person per day"
          ],
          [
           3.679,
           "Malaysia",
           "PPP dollar per person per day"
          ],
          [
           4.095,
           "Maldives",
           "PPP dollar per person per day"
          ],
          [
           3.23,
           "Mali",
           "PPP dollar per person per day"
          ],
          [
           3.917,
           "Malta",
           "PPP dollar per person per day"
          ],
          [
           3.948,
           "Mauritania",
           "PPP dollar per person per day"
          ],
          [
           3.785,
           "Mauritius",
           "PPP dollar per person per day"
          ],
          [
           3.205,
           "Mexico",
           "PPP dollar per person per day"
          ],
          [
           5.676,
           "Mongolia",
           "PPP dollar per person per day"
          ],
          [
           3.673,
           "Montenegro",
           "PPP dollar per person per day"
          ],
          [
           2.905,
           "Morocco",
           "PPP dollar per person per day"
          ],
          [
           3.548,
           "Mozambique",
           "PPP dollar per person per day"
          ],
          [
           4.206,
           "Myanmar",
           "PPP dollar per person per day"
          ],
          [
           3.761,
           "Namibia",
           "PPP dollar per person per day"
          ],
          [
           4.621,
           "Nepal",
           "PPP dollar per person per day"
          ],
          [
           2.963,
           "Netherlands (Kingdom of the)",
           "PPP dollar per person per day"
          ],
          [
           2.797,
           "New Zealand",
           "PPP dollar per person per day"
          ],
          [
           3.54,
           "Nicaragua",
           "PPP dollar per person per day"
          ],
          [
           3.155,
           "Niger",
           "PPP dollar per person per day"
          ],
          [
           4.325,
           "Nigeria",
           "PPP dollar per person per day"
          ],
          [
           3.616,
           "North Macedonia",
           "PPP dollar per person per day"
          ],
          [
           3.361,
           "Norway",
           "PPP dollar per person per day"
          ],
          [
           3.141,
           "Oman",
           "PPP dollar per person per day"
          ],
          [
           3.893,
           "Pakistan",
           "PPP dollar per person per day"
          ],
          [
           3.285,
           "Palestine",
           "PPP dollar per person per day"
          ],
          [
           4.687,
           "Panama",
           "PPP dollar per person per day"
          ],
          [
           3.867,
           "Paraguay",
           "PPP dollar per person per day"
          ],
          [
           3.334,
           "Peru",
           "PPP dollar per person per day"
          ],
          [
           4.364,
           "Philippines",
           "PPP dollar per person per day"
          ],
          [
           3.155,
           "Poland",
           "PPP dollar per person per day"
          ],
          [
           2.651,
           "Portugal",
           "PPP dollar per person per day"
          ],
          [
           2.708,
           "Qatar",
           "PPP dollar per person per day"
          ],
          [
           5.34,
           "Republic of Korea",
           "PPP dollar per person per day"
          ],
          [
           2.998,
           "Republic of Moldova",
           "PPP dollar per person per day"
          ],
          [
           3.253,
           "Romania",
           "PPP dollar per person per day"
          ],
          [
           3.678,
           "Russian Federation",
           "PPP dollar per person per day"
          ],
          [
           2.718,
           "Rwanda",
           "PPP dollar per person per day"
          ],
          [
           3.526,
           "Saint Kitts and Nevis",
           "PPP dollar per person per day"
          ],
          [
           3.673,
           "Saint Lucia",
           "PPP dollar per person per day"
          ],
          [
           4.697,
           "Saint Vincent and the Grenadines",
           "PPP dollar per person per day"
          ],
          [
           3.869,
           "Sao Tome and Principe",
           "PPP dollar per person per day"
          ],
          [
           4.441,
           "Saudi Arabia",
           "PPP dollar per person per day"
          ],
          [
           2.443,
           "Senegal",
           "PPP dollar per person per day"
          ],
          [
           4.346,
           "Serbia",
           "PPP dollar per person per day"
          ],
          [
           4.131,
           "Seychelles",
           "PPP dollar per person per day"
          ],
          [
           3.167,
           "Sierra Leone",
           "PPP dollar per person per day"
          ],
          [
           3.186,
           "Singapore",
           "PPP dollar per person per day"
          ],
          [
           5.273,
           "Sint Maarten (Dutch part)",
           "PPP dollar per person per day"
          ],
          [
           3.198,
           "Slovakia",
           "PPP dollar per person per day"
          ],
          [
           3.038,
           "Slovenia",
           "PPP dollar per person per day"
          ],
          [
           4.565,
           "South Africa",
           "PPP dollar per person per day"
          ],
          [
           2.879,
           "Spain",
           "PPP dollar per person per day"
          ],
          [
           4.268,
           "Sri Lanka",
           "PPP dollar per person per day"
          ],
          [
           3.081,
           "Sudan",
           "PPP dollar per person per day"
          ],
          [
           6.09,
           "Suriname",
           "PPP dollar per person per day"
          ],
          [
           3.279,
           "Sweden",
           "PPP dollar per person per day"
          ],
          [
           2.619,
           "Switzerland",
           "PPP dollar per person per day"
          ],
          [
           3.61,
           "Tajikistan",
           "PPP dollar per person per day"
          ],
          [
           4.463,
           "Thailand",
           "PPP dollar per person per day"
          ],
          [
           4.524,
           "Trinidad and Tobago",
           "PPP dollar per person per day"
          ],
          [
           3.833,
           "Tunisia",
           "PPP dollar per person per day"
          ],
          [
           3.109,
           "Türkiye",
           "PPP dollar per person per day"
          ],
          [
           3.229,
           "Turks and Caicos Islands",
           "PPP dollar per person per day"
          ],
          [
           2.774,
           "Uganda",
           "PPP dollar per person per day"
          ],
          [
           3.269,
           "United Arab Emirates",
           "PPP dollar per person per day"
          ],
          [
           1.95,
           "United Kingdom of Great Britain and Northern Ireland",
           "PPP dollar per person per day"
          ],
          [
           2.866,
           "United Republic of Tanzania",
           "PPP dollar per person per day"
          ],
          [
           3.5,
           "United States of America",
           "PPP dollar per person per day"
          ],
          [
           3.543,
           "Uruguay",
           "PPP dollar per person per day"
          ],
          [
           4.216,
           "Viet Nam",
           "PPP dollar per person per day"
          ],
          [
           3.616,
           "Zambia",
           "PPP dollar per person per day"
          ],
          [
           null,
           "Zimbabwe",
           "PPP dollar per person per day"
          ]
         ],
         "geo": "geo",
         "hovertemplate": "<b>%{hovertext}</b><br><br>Value=%{z}<br>Unit=%{customdata[2]}<extra></extra>",
         "hovertext": [
          "Albania",
          "Algeria",
          "Angola",
          "Antigua and Barbuda",
          "Argentina",
          "Armenia",
          "Aruba",
          "Australia",
          "Austria",
          "Azerbaijan",
          "Bahamas",
          "Bahrain",
          "Bangladesh",
          "Belarus",
          "Belgium",
          "Belize",
          "Benin",
          "Bermuda",
          "Bhutan",
          "Bolivia (Plurinational State of)",
          "Bosnia and Herzegovina",
          "Botswana",
          "Brazil",
          "British Virgin Islands",
          "Brunei Darussalam",
          "Bulgaria",
          "Burkina Faso",
          "Burundi",
          "Cabo Verde",
          "Cambodia",
          "Cameroon",
          "Canada",
          "Cayman Islands",
          "Central African Republic",
          "Chad",
          "Chile",
          "China, Hong Kong SAR",
          "China, mainland",
          "China, Taiwan Province of",
          "Colombia",
          "Congo",
          "Costa Rica",
          "Côte d'Ivoire",
          "Croatia",
          "Curaçao",
          "Cyprus",
          "Czechia",
          "Democratic Republic of the Congo",
          "Denmark",
          "Djibouti",
          "Dominica",
          "Dominican Republic",
          "Ecuador",
          "Egypt",
          "Equatorial Guinea",
          "Estonia",
          "Eswatini",
          "Ethiopia",
          "Fiji",
          "Finland",
          "France",
          "Gabon",
          "Gambia",
          "Germany",
          "Ghana",
          "Greece",
          "Grenada",
          "Guinea",
          "Guinea-Bissau",
          "Guyana",
          "Haiti",
          "Honduras",
          "Hungary",
          "Iceland",
          "India",
          "Indonesia",
          "Iran (Islamic Republic of)",
          "Iraq",
          "Ireland",
          "Israel",
          "Italy",
          "Jamaica",
          "Japan",
          "Jordan",
          "Kazakhstan",
          "Kenya",
          "Kuwait",
          "Kyrgyzstan",
          "Lao People's Democratic Republic",
          "Latvia",
          "Lesotho",
          "Liberia",
          "Lithuania",
          "Luxembourg",
          "Madagascar",
          "Malawi",
          "Malaysia",
          "Maldives",
          "Mali",
          "Malta",
          "Mauritania",
          "Mauritius",
          "Mexico",
          "Mongolia",
          "Montenegro",
          "Morocco",
          "Mozambique",
          "Myanmar",
          "Namibia",
          "Nepal",
          "Netherlands (Kingdom of the)",
          "New Zealand",
          "Nicaragua",
          "Niger",
          "Nigeria",
          "North Macedonia",
          "Norway",
          "Oman",
          "Pakistan",
          "Palestine",
          "Panama",
          "Paraguay",
          "Peru",
          "Philippines",
          "Poland",
          "Portugal",
          "Qatar",
          "Republic of Korea",
          "Republic of Moldova",
          "Romania",
          "Russian Federation",
          "Rwanda",
          "Saint Kitts and Nevis",
          "Saint Lucia",
          "Saint Vincent and the Grenadines",
          "Sao Tome and Principe",
          "Saudi Arabia",
          "Senegal",
          "Serbia",
          "Seychelles",
          "Sierra Leone",
          "Singapore",
          "Sint Maarten (Dutch part)",
          "Slovakia",
          "Slovenia",
          "South Africa",
          "Spain",
          "Sri Lanka",
          "Sudan",
          "Suriname",
          "Sweden",
          "Switzerland",
          "Tajikistan",
          "Thailand",
          "Trinidad and Tobago",
          "Tunisia",
          "Türkiye",
          "Turks and Caicos Islands",
          "Uganda",
          "United Arab Emirates",
          "United Kingdom of Great Britain and Northern Ireland",
          "United Republic of Tanzania",
          "United States of America",
          "Uruguay",
          "Viet Nam",
          "Zambia",
          "Zimbabwe"
         ],
         "locationmode": "country names",
         "locations": [
          "Albania",
          "Algeria",
          "Angola",
          "Antigua and Barbuda",
          "Argentina",
          "Armenia",
          "Aruba",
          "Australia",
          "Austria",
          "Azerbaijan",
          "Bahamas",
          "Bahrain",
          "Bangladesh",
          "Belarus",
          "Belgium",
          "Belize",
          "Benin",
          "Bermuda",
          "Bhutan",
          "Bolivia (Plurinational State of)",
          "Bosnia and Herzegovina",
          "Botswana",
          "Brazil",
          "British Virgin Islands",
          "Brunei Darussalam",
          "Bulgaria",
          "Burkina Faso",
          "Burundi",
          "Cabo Verde",
          "Cambodia",
          "Cameroon",
          "Canada",
          "Cayman Islands",
          "Central African Republic",
          "Chad",
          "Chile",
          "China, Hong Kong SAR",
          "China, mainland",
          "China, Taiwan Province of",
          "Colombia",
          "Congo",
          "Costa Rica",
          "Côte d'Ivoire",
          "Croatia",
          "Curaçao",
          "Cyprus",
          "Czechia",
          "Democratic Republic of the Congo",
          "Denmark",
          "Djibouti",
          "Dominica",
          "Dominican Republic",
          "Ecuador",
          "Egypt",
          "Equatorial Guinea",
          "Estonia",
          "Eswatini",
          "Ethiopia",
          "Fiji",
          "Finland",
          "France",
          "Gabon",
          "Gambia",
          "Germany",
          "Ghana",
          "Greece",
          "Grenada",
          "Guinea",
          "Guinea-Bissau",
          "Guyana",
          "Haiti",
          "Honduras",
          "Hungary",
          "Iceland",
          "India",
          "Indonesia",
          "Iran (Islamic Republic of)",
          "Iraq",
          "Ireland",
          "Israel",
          "Italy",
          "Jamaica",
          "Japan",
          "Jordan",
          "Kazakhstan",
          "Kenya",
          "Kuwait",
          "Kyrgyzstan",
          "Lao People's Democratic Republic",
          "Latvia",
          "Lesotho",
          "Liberia",
          "Lithuania",
          "Luxembourg",
          "Madagascar",
          "Malawi",
          "Malaysia",
          "Maldives",
          "Mali",
          "Malta",
          "Mauritania",
          "Mauritius",
          "Mexico",
          "Mongolia",
          "Montenegro",
          "Morocco",
          "Mozambique",
          "Myanmar",
          "Namibia",
          "Nepal",
          "Netherlands (Kingdom of the)",
          "New Zealand",
          "Nicaragua",
          "Niger",
          "Nigeria",
          "North Macedonia",
          "Norway",
          "Oman",
          "Pakistan",
          "Palestine",
          "Panama",
          "Paraguay",
          "Peru",
          "Philippines",
          "Poland",
          "Portugal",
          "Qatar",
          "Republic of Korea",
          "Republic of Moldova",
          "Romania",
          "Russian Federation",
          "Rwanda",
          "Saint Kitts and Nevis",
          "Saint Lucia",
          "Saint Vincent and the Grenadines",
          "Sao Tome and Principe",
          "Saudi Arabia",
          "Senegal",
          "Serbia",
          "Seychelles",
          "Sierra Leone",
          "Singapore",
          "Sint Maarten (Dutch part)",
          "Slovakia",
          "Slovenia",
          "South Africa",
          "Spain",
          "Sri Lanka",
          "Sudan",
          "Suriname",
          "Sweden",
          "Switzerland",
          "Tajikistan",
          "Thailand",
          "Trinidad and Tobago",
          "Tunisia",
          "Türkiye",
          "Turks and Caicos Islands",
          "Uganda",
          "United Arab Emirates",
          "United Kingdom of Great Britain and Northern Ireland",
          "United Republic of Tanzania",
          "United States of America",
          "Uruguay",
          "Viet Nam",
          "Zambia",
          "Zimbabwe"
         ],
         "name": "",
         "type": "choropleth",
         "z": [
          4.388,
          4.043,
          5.031,
          4.684,
          null,
          3.527,
          4.116,
          2.437,
          3.027,
          2.69,
          4.661,
          4.036,
          3.201,
          3.471,
          3.125,
          2.797,
          4.041,
          3.395,
          5.339,
          3.927,
          4.105,
          3.829,
          3.35,
          3.425,
          4.641,
          4.151,
          3.611,
          3.138,
          3.683,
          4.064,
          2.997,
          3.065,
          3.05,
          3.784,
          2.941,
          3.387,
          4.718,
          2.96,
          null,
          3.301,
          3.626,
          3.925,
          3.909,
          4.29,
          3.495,
          2.955,
          2.985,
          2.253,
          2.5,
          3.25,
          4.561,
          4.128,
          3.035,
          3.506,
          3.751,
          3.29,
          3.537,
          3.706,
          4.358,
          2.716,
          3.254,
          3.704,
          3.324,
          3.082,
          4.237,
          3.174,
          6.097,
          4.443,
          3.694,
          5.117,
          4.814,
          3.595,
          3.418,
          2.416,
          3.066,
          4.729,
          4.167,
          3.665,
          2.15,
          2.524,
          3.168,
          7.033,
          5.638,
          3.737,
          2.852,
          3.189,
          3.997,
          3.51,
          4.305,
          3.254,
          4.618,
          4.447,
          3.108,
          2.59,
          3.382,
          3.365,
          3.679,
          4.095,
          3.23,
          3.917,
          3.948,
          3.785,
          3.205,
          5.676,
          3.673,
          2.905,
          3.548,
          4.206,
          3.761,
          4.621,
          2.963,
          2.797,
          3.54,
          3.155,
          4.325,
          3.616,
          3.361,
          3.141,
          3.893,
          3.285,
          4.687,
          3.867,
          3.334,
          4.364,
          3.155,
          2.651,
          2.708,
          5.34,
          2.998,
          3.253,
          3.678,
          2.718,
          3.526,
          3.673,
          4.697,
          3.869,
          4.441,
          2.443,
          4.346,
          4.131,
          3.167,
          3.186,
          5.273,
          3.198,
          3.038,
          4.565,
          2.879,
          4.268,
          3.081,
          6.09,
          3.279,
          2.619,
          3.61,
          4.463,
          4.524,
          3.833,
          3.109,
          3.229,
          2.774,
          3.269,
          1.95,
          2.866,
          3.5,
          3.543,
          4.216,
          3.616,
          null
         ]
        }
       ],
       "layout": {
        "coloraxis": {
         "colorbar": {
          "title": {
           "text": "Value"
          }
         },
         "colorscale": [
          [
           0,
           "rgb(247,251,255)"
          ],
          [
           0.125,
           "rgb(222,235,247)"
          ],
          [
           0.25,
           "rgb(198,219,239)"
          ],
          [
           0.375,
           "rgb(158,202,225)"
          ],
          [
           0.5,
           "rgb(107,174,214)"
          ],
          [
           0.625,
           "rgb(66,146,198)"
          ],
          [
           0.75,
           "rgb(33,113,181)"
          ],
          [
           0.875,
           "rgb(8,81,156)"
          ],
          [
           1,
           "rgb(8,48,107)"
          ]
         ]
        },
        "geo": {
         "center": {},
         "domain": {
          "x": [
           0,
           1
          ],
          "y": [
           0,
           1
          ]
         },
         "scope": "world"
        },
        "height": 600,
        "legend": {
         "tracegroupgap": 0
        },
        "template": {
         "data": {
          "bar": [
           {
            "error_x": {
             "color": "#f2f5fa"
            },
            "error_y": {
             "color": "#f2f5fa"
            },
            "marker": {
             "line": {
              "color": "rgb(17,17,17)",
              "width": 0.5
             },
             "pattern": {
              "fillmode": "overlay",
              "size": 10,
              "solidity": 0.2
             }
            },
            "type": "bar"
           }
          ],
          "barpolar": [
           {
            "marker": {
             "line": {
              "color": "rgb(17,17,17)",
              "width": 0.5
             },
             "pattern": {
              "fillmode": "overlay",
              "size": 10,
              "solidity": 0.2
             }
            },
            "type": "barpolar"
           }
          ],
          "carpet": [
           {
            "aaxis": {
             "endlinecolor": "#A2B1C6",
             "gridcolor": "#506784",
             "linecolor": "#506784",
             "minorgridcolor": "#506784",
             "startlinecolor": "#A2B1C6"
            },
            "baxis": {
             "endlinecolor": "#A2B1C6",
             "gridcolor": "#506784",
             "linecolor": "#506784",
             "minorgridcolor": "#506784",
             "startlinecolor": "#A2B1C6"
            },
            "type": "carpet"
           }
          ],
          "choropleth": [
           {
            "colorbar": {
             "outlinewidth": 0,
             "ticks": ""
            },
            "type": "choropleth"
           }
          ],
          "contour": [
           {
            "colorbar": {
             "outlinewidth": 0,
             "ticks": ""
            },
            "colorscale": [
             [
              0,
              "#0d0887"
             ],
             [
              0.1111111111111111,
              "#46039f"
             ],
             [
              0.2222222222222222,
              "#7201a8"
             ],
             [
              0.3333333333333333,
              "#9c179e"
             ],
             [
              0.4444444444444444,
              "#bd3786"
             ],
             [
              0.5555555555555556,
              "#d8576b"
             ],
             [
              0.6666666666666666,
              "#ed7953"
             ],
             [
              0.7777777777777778,
              "#fb9f3a"
             ],
             [
              0.8888888888888888,
              "#fdca26"
             ],
             [
              1,
              "#f0f921"
             ]
            ],
            "type": "contour"
           }
          ],
          "contourcarpet": [
           {
            "colorbar": {
             "outlinewidth": 0,
             "ticks": ""
            },
            "type": "contourcarpet"
           }
          ],
          "heatmap": [
           {
            "colorbar": {
             "outlinewidth": 0,
             "ticks": ""
            },
            "colorscale": [
             [
              0,
              "#0d0887"
             ],
             [
              0.1111111111111111,
              "#46039f"
             ],
             [
              0.2222222222222222,
              "#7201a8"
             ],
             [
              0.3333333333333333,
              "#9c179e"
             ],
             [
              0.4444444444444444,
              "#bd3786"
             ],
             [
              0.5555555555555556,
              "#d8576b"
             ],
             [
              0.6666666666666666,
              "#ed7953"
             ],
             [
              0.7777777777777778,
              "#fb9f3a"
             ],
             [
              0.8888888888888888,
              "#fdca26"
             ],
             [
              1,
              "#f0f921"
             ]
            ],
            "type": "heatmap"
           }
          ],
          "heatmapgl": [
           {
            "colorbar": {
             "outlinewidth": 0,
             "ticks": ""
            },
            "colorscale": [
             [
              0,
              "#0d0887"
             ],
             [
              0.1111111111111111,
              "#46039f"
             ],
             [
              0.2222222222222222,
              "#7201a8"
             ],
             [
              0.3333333333333333,
              "#9c179e"
             ],
             [
              0.4444444444444444,
              "#bd3786"
             ],
             [
              0.5555555555555556,
              "#d8576b"
             ],
             [
              0.6666666666666666,
              "#ed7953"
             ],
             [
              0.7777777777777778,
              "#fb9f3a"
             ],
             [
              0.8888888888888888,
              "#fdca26"
             ],
             [
              1,
              "#f0f921"
             ]
            ],
            "type": "heatmapgl"
           }
          ],
          "histogram": [
           {
            "marker": {
             "pattern": {
              "fillmode": "overlay",
              "size": 10,
              "solidity": 0.2
             }
            },
            "type": "histogram"
           }
          ],
          "histogram2d": [
           {
            "colorbar": {
             "outlinewidth": 0,
             "ticks": ""
            },
            "colorscale": [
             [
              0,
              "#0d0887"
             ],
             [
              0.1111111111111111,
              "#46039f"
             ],
             [
              0.2222222222222222,
              "#7201a8"
             ],
             [
              0.3333333333333333,
              "#9c179e"
             ],
             [
              0.4444444444444444,
              "#bd3786"
             ],
             [
              0.5555555555555556,
              "#d8576b"
             ],
             [
              0.6666666666666666,
              "#ed7953"
             ],
             [
              0.7777777777777778,
              "#fb9f3a"
             ],
             [
              0.8888888888888888,
              "#fdca26"
             ],
             [
              1,
              "#f0f921"
             ]
            ],
            "type": "histogram2d"
           }
          ],
          "histogram2dcontour": [
           {
            "colorbar": {
             "outlinewidth": 0,
             "ticks": ""
            },
            "colorscale": [
             [
              0,
              "#0d0887"
             ],
             [
              0.1111111111111111,
              "#46039f"
             ],
             [
              0.2222222222222222,
              "#7201a8"
             ],
             [
              0.3333333333333333,
              "#9c179e"
             ],
             [
              0.4444444444444444,
              "#bd3786"
             ],
             [
              0.5555555555555556,
              "#d8576b"
             ],
             [
              0.6666666666666666,
              "#ed7953"
             ],
             [
              0.7777777777777778,
              "#fb9f3a"
             ],
             [
              0.8888888888888888,
              "#fdca26"
             ],
             [
              1,
              "#f0f921"
             ]
            ],
            "type": "histogram2dcontour"
           }
          ],
          "mesh3d": [
           {
            "colorbar": {
             "outlinewidth": 0,
             "ticks": ""
            },
            "type": "mesh3d"
           }
          ],
          "parcoords": [
           {
            "line": {
             "colorbar": {
              "outlinewidth": 0,
              "ticks": ""
             }
            },
            "type": "parcoords"
           }
          ],
          "pie": [
           {
            "automargin": true,
            "type": "pie"
           }
          ],
          "scatter": [
           {
            "marker": {
             "line": {
              "color": "#283442"
             }
            },
            "type": "scatter"
           }
          ],
          "scatter3d": [
           {
            "line": {
             "colorbar": {
              "outlinewidth": 0,
              "ticks": ""
             }
            },
            "marker": {
             "colorbar": {
              "outlinewidth": 0,
              "ticks": ""
             }
            },
            "type": "scatter3d"
           }
          ],
          "scattercarpet": [
           {
            "marker": {
             "colorbar": {
              "outlinewidth": 0,
              "ticks": ""
             }
            },
            "type": "scattercarpet"
           }
          ],
          "scattergeo": [
           {
            "marker": {
             "colorbar": {
              "outlinewidth": 0,
              "ticks": ""
             }
            },
            "type": "scattergeo"
           }
          ],
          "scattergl": [
           {
            "marker": {
             "line": {
              "color": "#283442"
             }
            },
            "type": "scattergl"
           }
          ],
          "scattermapbox": [
           {
            "marker": {
             "colorbar": {
              "outlinewidth": 0,
              "ticks": ""
             }
            },
            "type": "scattermapbox"
           }
          ],
          "scatterpolar": [
           {
            "marker": {
             "colorbar": {
              "outlinewidth": 0,
              "ticks": ""
             }
            },
            "type": "scatterpolar"
           }
          ],
          "scatterpolargl": [
           {
            "marker": {
             "colorbar": {
              "outlinewidth": 0,
              "ticks": ""
             }
            },
            "type": "scatterpolargl"
           }
          ],
          "scatterternary": [
           {
            "marker": {
             "colorbar": {
              "outlinewidth": 0,
              "ticks": ""
             }
            },
            "type": "scatterternary"
           }
          ],
          "surface": [
           {
            "colorbar": {
             "outlinewidth": 0,
             "ticks": ""
            },
            "colorscale": [
             [
              0,
              "#0d0887"
             ],
             [
              0.1111111111111111,
              "#46039f"
             ],
             [
              0.2222222222222222,
              "#7201a8"
             ],
             [
              0.3333333333333333,
              "#9c179e"
             ],
             [
              0.4444444444444444,
              "#bd3786"
             ],
             [
              0.5555555555555556,
              "#d8576b"
             ],
             [
              0.6666666666666666,
              "#ed7953"
             ],
             [
              0.7777777777777778,
              "#fb9f3a"
             ],
             [
              0.8888888888888888,
              "#fdca26"
             ],
             [
              1,
              "#f0f921"
             ]
            ],
            "type": "surface"
           }
          ],
          "table": [
           {
            "cells": {
             "fill": {
              "color": "#506784"
             },
             "line": {
              "color": "rgb(17,17,17)"
             }
            },
            "header": {
             "fill": {
              "color": "#2a3f5f"
             },
             "line": {
              "color": "rgb(17,17,17)"
             }
            },
            "type": "table"
           }
          ]
         },
         "layout": {
          "annotationdefaults": {
           "arrowcolor": "#f2f5fa",
           "arrowhead": 0,
           "arrowwidth": 1
          },
          "autotypenumbers": "strict",
          "coloraxis": {
           "colorbar": {
            "outlinewidth": 0,
            "ticks": ""
           }
          },
          "colorscale": {
           "diverging": [
            [
             0,
             "#8e0152"
            ],
            [
             0.1,
             "#c51b7d"
            ],
            [
             0.2,
             "#de77ae"
            ],
            [
             0.3,
             "#f1b6da"
            ],
            [
             0.4,
             "#fde0ef"
            ],
            [
             0.5,
             "#f7f7f7"
            ],
            [
             0.6,
             "#e6f5d0"
            ],
            [
             0.7,
             "#b8e186"
            ],
            [
             0.8,
             "#7fbc41"
            ],
            [
             0.9,
             "#4d9221"
            ],
            [
             1,
             "#276419"
            ]
           ],
           "sequential": [
            [
             0,
             "#0d0887"
            ],
            [
             0.1111111111111111,
             "#46039f"
            ],
            [
             0.2222222222222222,
             "#7201a8"
            ],
            [
             0.3333333333333333,
             "#9c179e"
            ],
            [
             0.4444444444444444,
             "#bd3786"
            ],
            [
             0.5555555555555556,
             "#d8576b"
            ],
            [
             0.6666666666666666,
             "#ed7953"
            ],
            [
             0.7777777777777778,
             "#fb9f3a"
            ],
            [
             0.8888888888888888,
             "#fdca26"
            ],
            [
             1,
             "#f0f921"
            ]
           ],
           "sequentialminus": [
            [
             0,
             "#0d0887"
            ],
            [
             0.1111111111111111,
             "#46039f"
            ],
            [
             0.2222222222222222,
             "#7201a8"
            ],
            [
             0.3333333333333333,
             "#9c179e"
            ],
            [
             0.4444444444444444,
             "#bd3786"
            ],
            [
             0.5555555555555556,
             "#d8576b"
            ],
            [
             0.6666666666666666,
             "#ed7953"
            ],
            [
             0.7777777777777778,
             "#fb9f3a"
            ],
            [
             0.8888888888888888,
             "#fdca26"
            ],
            [
             1,
             "#f0f921"
            ]
           ]
          },
          "colorway": [
           "#636efa",
           "#EF553B",
           "#00cc96",
           "#ab63fa",
           "#FFA15A",
           "#19d3f3",
           "#FF6692",
           "#B6E880",
           "#FF97FF",
           "#FECB52"
          ],
          "font": {
           "color": "#f2f5fa"
          },
          "geo": {
           "bgcolor": "rgb(17,17,17)",
           "lakecolor": "rgb(17,17,17)",
           "landcolor": "rgb(17,17,17)",
           "showlakes": true,
           "showland": true,
           "subunitcolor": "#506784"
          },
          "hoverlabel": {
           "align": "left"
          },
          "hovermode": "closest",
          "mapbox": {
           "style": "dark"
          },
          "paper_bgcolor": "rgb(17,17,17)",
          "plot_bgcolor": "rgb(17,17,17)",
          "polar": {
           "angularaxis": {
            "gridcolor": "#506784",
            "linecolor": "#506784",
            "ticks": ""
           },
           "bgcolor": "rgb(17,17,17)",
           "radialaxis": {
            "gridcolor": "#506784",
            "linecolor": "#506784",
            "ticks": ""
           }
          },
          "scene": {
           "xaxis": {
            "backgroundcolor": "rgb(17,17,17)",
            "gridcolor": "#506784",
            "gridwidth": 2,
            "linecolor": "#506784",
            "showbackground": true,
            "ticks": "",
            "zerolinecolor": "#C8D4E3"
           },
           "yaxis": {
            "backgroundcolor": "rgb(17,17,17)",
            "gridcolor": "#506784",
            "gridwidth": 2,
            "linecolor": "#506784",
            "showbackground": true,
            "ticks": "",
            "zerolinecolor": "#C8D4E3"
           },
           "zaxis": {
            "backgroundcolor": "rgb(17,17,17)",
            "gridcolor": "#506784",
            "gridwidth": 2,
            "linecolor": "#506784",
            "showbackground": true,
            "ticks": "",
            "zerolinecolor": "#C8D4E3"
           }
          },
          "shapedefaults": {
           "line": {
            "color": "#f2f5fa"
           }
          },
          "sliderdefaults": {
           "bgcolor": "#C8D4E3",
           "bordercolor": "rgb(17,17,17)",
           "borderwidth": 1,
           "tickwidth": 0
          },
          "ternary": {
           "aaxis": {
            "gridcolor": "#506784",
            "linecolor": "#506784",
            "ticks": ""
           },
           "baxis": {
            "gridcolor": "#506784",
            "linecolor": "#506784",
            "ticks": ""
           },
           "bgcolor": "rgb(17,17,17)",
           "caxis": {
            "gridcolor": "#506784",
            "linecolor": "#506784",
            "ticks": ""
           }
          },
          "title": {
           "x": 0.05
          },
          "updatemenudefaults": {
           "bgcolor": "#506784",
           "borderwidth": 0
          },
          "xaxis": {
           "automargin": true,
           "gridcolor": "#283442",
           "linecolor": "#506784",
           "ticks": "",
           "title": {
            "standoff": 15
           },
           "zerolinecolor": "#283442",
           "zerolinewidth": 2
          },
          "yaxis": {
           "automargin": true,
           "gridcolor": "#283442",
           "linecolor": "#506784",
           "ticks": "",
           "title": {
            "standoff": 15
           },
           "zerolinecolor": "#283442",
           "zerolinewidth": 2
          }
         }
        },
        "title": {
         "text": "Cost of Healthy Diet Per Day (US Dollars) in 2021"
        },
        "width": 1000
       }
      }
     },
     "metadata": {},
     "output_type": "display_data"
    }
   ],
   "source": [
    "import plotly.express as px\n",
    "\n",
    "values_per_day = df[(df['Item'] == 'Cost of a healthy diet (PPP dollar per person per day)') & (df['Year'] == 2021)]\n",
    "\n",
    "# Create the plot\n",
    "fig = px.choropleth(values_per_day,\n",
    "                    locations=\"Area\",\n",
    "                    locationmode=\"country names\",\n",
    "                    color=\"Value\",\n",
    "                    hover_name=\"Area\",\n",
    "                    hover_data={\"Value\": True, \"Area\": False, \"Unit\": True},  # Additional hover data\n",
    "                    color_continuous_scale=px.colors.sequential.Blues,\n",
    "                    title=\"Cost of Healthy Diet Per Day (US Dollars) in 2021\",\n",
    "                    scope='world',\n",
    "                    template='plotly_dark')\n",
    "fig.update_layout(width=1000, height=600)\n",
    "fig.show()\n"
   ]
  },
  {
   "cell_type": "code",
   "execution_count": null,
   "metadata": {},
   "outputs": [],
   "source": []
  }
 ],
 "metadata": {
  "kernelspec": {
   "display_name": "Python 3",
   "language": "python",
   "name": "python3"
  },
  "language_info": {
   "codemirror_mode": {
    "name": "ipython",
    "version": 3
   },
   "file_extension": ".py",
   "mimetype": "text/x-python",
   "name": "python",
   "nbconvert_exporter": "python",
   "pygments_lexer": "ipython3",
   "version": "3.11.7"
  }
 },
 "nbformat": 4,
 "nbformat_minor": 2
}
